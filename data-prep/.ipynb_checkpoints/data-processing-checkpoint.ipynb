{
 "cells": [
  {
   "cell_type": "code",
   "execution_count": null,
   "metadata": {},
   "outputs": [],
   "source": [
    "#data scope\n",
    "#altitude-{date}.json\n",
    "{\n",
    "  \"dateTime\" : \"06/22/20 14:02:00\",\n",
    "  \"value\" : \"10\"\n",
    "}\n",
    "\n",
    "#calories-{date}.json\n",
    "{\n",
    "  \"dateTime\" : \"06/14/20 00:00:00\",\n",
    "  \"value\" : \"1.1\"\n",
    "}\n",
    "\n",
    "\n",
    "#distance-{date}.json\n",
    "{\n",
    "  \"dateTime\" : \"06/14/20 07:01:00\",\n",
    "  \"value\" : \"920\"\n",
    "}\n",
    "\n",
    "#exercise-{x00}.json\n",
    "{\n",
    "  \"logId\" : 32229002059,\n",
    "  \"activityName\" : \"Walk\",\n",
    "  \"activityTypeId\" : 90013,\n",
    "  \"activityLevel\" : [{\n",
    "    \"minutes\" : 0,\n",
    "    \"name\" : \"sedentary\"\n",
    "  },{\n",
    "    \"minutes\" : 1,\n",
    "    \"name\" : \"lightly\"\n",
    "  },{\n",
    "    \"minutes\" : 4,\n",
    "    \"name\" : \"fairly\"\n",
    "  },{\n",
    "    \"minutes\" : 15,\n",
    "    \"name\" : \"very\"\n",
    "  }],\n",
    "  \"averageHeartRate\" : 102,\n",
    "  \"calories\" : 137,\n",
    "  \"duration\" : 1177000,\n",
    "  \"activeDuration\" : 1177000,\n",
    "  \"steps\" : 1970,\n",
    "  \"logType\" : \"auto_detected\",\n",
    "  \"manualValuesSpecified\" : {\n",
    "    \"calories\" : false,\n",
    "    \"distance\" : false,\n",
    "    \"steps\" : false\n",
    "  },\n",
    "  \"heartRateZones\" : [{\n",
    "    \"name\" : \"Out of Range\",\n",
    "    \"min\" : 30,\n",
    "    \"max\" : 94,\n",
    "    \"minutes\" : 2\n",
    "  },{\n",
    "    \"name\" : \"Fat Burn\",\n",
    "    \"min\" : 94,\n",
    "    \"max\" : 132,\n",
    "    \"minutes\" : 18\n",
    "  },{\n",
    "    \"name\" : \"Cardio\",\n",
    "    \"min\" : 132,\n",
    "    \"max\" : 160,\n",
    "    \"minutes\" : 0\n",
    "  },{\n",
    "    \"name\" : \"Peak\",\n",
    "    \"min\" : 160,\n",
    "    \"max\" : 220,\n",
    "    \"minutes\" : 0\n",
    "  }],\n",
    "  \"lastModified\" : \"06/24/20 22:33:55\",\n",
    "  \"startTime\" : \"06/24/20 21:56:57\",\n",
    "  \"originalStartTime\" : \"06/24/20 21:56:57\",\n",
    "  \"originalDuration\" : 1177000,\n",
    "  \"elevationGain\" : 100.0,\n",
    "  \"hasGps\" : false,\n",
    "  \"shouldFetchDetails\" : false\n",
    "}\n",
    "\n",
    "#heart_rate-{date}.json\n",
    "{\n",
    "  \"dateTime\" : \"06/24/20 07:00:07\",\n",
    "  \"value\" : {\n",
    "    \"bpm\" : 54,\n",
    "    \"confidence\" : 3\n",
    "  }\n",
    "}\n",
    "\n",
    "#resting_heart_rate-{date}.json\n",
    "{\n",
    "  \"dateTime\" : \"06/25/20 00:00:00\",\n",
    "  \"value\" : {\n",
    "    \"date\" : \"06/25/20\",\n",
    "    \"value\" : 52.73830032348633,\n",
    "    \"error\" : 6.787087440490723\n",
    "  }\n",
    "}\n",
    "\n",
    "#sedentary_minutes-{date}.json\n",
    "{\n",
    "  \"dateTime\" : \"06/14/20 00:00:00\",\n",
    "  \"value\" : \"689\"\n",
    "}\n",
    "\n",
    "\n",
    "#sleep-{date}.json\n",
    "{\n",
    "  \"logId\" : 27773641747,\n",
    "  \"dateOfSleep\" : \"2020-06-25\",\n",
    "  \"startTime\" : \"2020-06-24T23:59:00.000\",\n",
    "  \"endTime\" : \"2020-06-25T09:42:30.000\",\n",
    "  \"duration\" : 34980000,\n",
    "  \"minutesToFallAsleep\" : 0,\n",
    "  \"minutesAsleep\" : 514,\n",
    "  \"minutesAwake\" : 69,\n",
    "  \"minutesAfterWakeup\" : 41,\n",
    "  \"timeInBed\" : 583,\n",
    "  \"efficiency\" : 38,\n",
    "  \"type\" : \"stages\",\n",
    "  \"infoCode\" : 0,\n",
    "  \"levels\" : {\n",
    "    \"summary\" : {\n",
    "      \"deep\" : {\n",
    "        \"count\" : 3,\n",
    "        \"minutes\" : 107,\n",
    "        \"thirtyDayAvgMinutes\" : 83\n",
    "      },\n",
    "      \"wake\" : {\n",
    "        \"count\" : 54,\n",
    "        \"minutes\" : 69,\n",
    "        \"thirtyDayAvgMinutes\" : 58\n",
    "      },\n",
    "      \"light\" : {\n",
    "        \"count\" : 41,\n",
    "        \"minutes\" : 306,\n",
    "        \"thirtyDayAvgMinutes\" : 233\n",
    "      },\n",
    "      \"rem\" : {\n",
    "        \"count\" : 20,\n",
    "        \"minutes\" : 101,\n",
    "        \"thirtyDayAvgMinutes\" : 79\n",
    "      }\n",
    "    },\n",
    "    \"data\" : [{\n",
    "      \"dateTime\" : \"2020-06-24T23:59:00.000\",\n",
    "      \"level\" : \"wake\",\n",
    "      \"seconds\" : 300\n",
    "    }]\n",
    "  },\n",
    "  \"mainSleep\" : true\n",
    "}\n",
    "\n",
    "#steps-{date}.json\n",
    "{\n",
    "  \"dateTime\" : \"06/14/20 07:01:00\",\n",
    "  \"value\" : \"13\"\n",
    "}\n",
    "\n",
    "#weight-{date}.json\n",
    "{\n",
    "  \"logId\" : 1518911999000,\n",
    "  \"weight\" : 150.1,\n",
    "  \"bmi\" : 23.02,\n",
    "  \"date\" : \"02/17/18\",\n",
    "  \"time\" : \"23:59:59\",\n",
    "  \"source\" : \"API\"\n",
    "}"
   ]
  },
  {
   "cell_type": "code",
   "execution_count": 1,
   "metadata": {},
   "outputs": [],
   "source": [
    "#load in packages\n",
    "import json\n",
    "import os\n",
    "from datetime import datetime, timedelta\n",
    "from dateutil import tz"
   ]
  },
  {
   "cell_type": "code",
   "execution_count": 7,
   "metadata": {},
   "outputs": [],
   "source": [
    "def dataLoader(dataPrefix):\n",
    "    dataContainer = []\n",
    "#     for root, dirs, files in os.walk('/Users/jinlong/Documents/git/fitviz/data-repo'):\n",
    "    for root, dirs, files in os.walk('/Users/jyang02/OneDrive - Amgen/git/fitviz/data-repo'):\n",
    "        for file in sorted(files):\n",
    "            if file.startswith(dataPrefix):\n",
    "                #print(file)\n",
    "                with open(root + '/' + file, 'r') as f:\n",
    "                    dataContainer.extend(json.load(f))\n",
    "    return dataContainer\n",
    "\n",
    "def dtParser(dtString, dtStringFormat):\n",
    "    dt = datetime.strptime(dtString, dtStringFormat)\n",
    "    return datetime.strftime(dt,'%Y-%m-%d %H:%M:%S')"
   ]
  },
  {
   "cell_type": "code",
   "execution_count": 8,
   "metadata": {},
   "outputs": [],
   "source": [
    "#generate a list of dates as containers\n",
    "#startingDate = datetime.strptime('2018-02-07', '%Y-%m-%d')#1st day wearing Fitbit Charge 2 HR\n",
    "startingDate = datetime.strptime('2019-01-01', '%Y-%m-%d')#1st day of 2019\n",
    "\n",
    "#dateList = [startingDate + timedelta(days=x) for x in range(0, 330)]##300 days from now 2018-02-27 to 2019-01-02\n",
    "dateList = [startingDate + timedelta(days=x) for x in range(0, 100)]\n",
    "\n",
    "data = {}\n",
    "for e in dateList:\n",
    "    data[e.strftime('%Y-%m-%d')] = {}"
   ]
  },
  {
   "cell_type": "code",
   "execution_count": 9,
   "metadata": {},
   "outputs": [
    {
     "name": "stdout",
     "output_type": "stream",
     "text": [
      "987713\n",
      "{'dateTime': '03/04/20 04:46:00', 'value': '0'}\n"
     ]
    }
   ],
   "source": [
    "#get all steps file.\n",
    "allSteps = dataLoader('steps')\n",
    "print(len(allSteps))\n",
    "print(allSteps[-1])\n",
    "#519597"
   ]
  },
  {
   "cell_type": "code",
   "execution_count": 10,
   "metadata": {},
   "outputs": [],
   "source": [
    "#aggregate steps by 10mins interval\n",
    "stepAggDict = {}\n",
    "for e in allSteps[:]:\n",
    "    k = e['dateTime'][0:13]#substring YY/MM/DD HH/mm\n",
    "    if k in stepAggDict:\n",
    "        stepAggDict[k] += int(e['value'])\n",
    "    else:\n",
    "        stepAggDict[k] = int(e['value'])"
   ]
  },
  {
   "cell_type": "code",
   "execution_count": 11,
   "metadata": {},
   "outputs": [],
   "source": [
    "#convert stepAggDict to a list\n",
    "stepAgg = []\n",
    "for k in stepAggDict:\n",
    "    stepAgg.append({'dt': k + '0:00', 'value': stepAggDict[k]})\n",
    "#print(stepAgg)"
   ]
  },
  {
   "cell_type": "code",
   "execution_count": 12,
   "metadata": {},
   "outputs": [
    {
     "name": "stdout",
     "output_type": "stream",
     "text": [
      "{'dt': '02/13/15 00:30:00', 'value': 1378, 'dt-utc': datetime.datetime(2015, 2, 13, 0, 30), 'dt-la-dtOjb': datetime.datetime(2015, 2, 12, 16, 30, tzinfo=tzfile('/usr/share/zoneinfo/America/Los_Angeles')), 'dt-la': '2015-02-12 16:30:00', 'date-la': '2015-02-12'}\n"
     ]
    }
   ],
   "source": [
    "#convert dt to los angeles time\n",
    "fromTz = tz.gettz('UTC')\n",
    "toTz = tz.gettz('America/Los_Angeles')\n",
    "\n",
    "for e in stepAgg:\n",
    "    #treat fitbit datetime as UTC time\n",
    "    #convert the datetime string to datetimeojbect\n",
    "    e['dt-utc'] = datetime.strptime(e['dt'], '%m/%d/%y %H:%M:%S')\n",
    "    #convert datetime from UTC to Los Angeles timezone\n",
    "    e['dt-la-dtOjb'] = e['dt-utc'].replace(tzinfo = fromTz).astimezone(toTz)\n",
    "    e['dt-la'] = datetime.strftime(e['dt-la-dtOjb'],'%Y-%m-%d %H:%M:%S')\n",
    "    e['date-la'] = datetime.strftime(e['dt-la-dtOjb'],'%Y-%m-%d')\n",
    "\n",
    "print(stepAgg[5])"
   ]
  },
  {
   "cell_type": "code",
   "execution_count": 13,
   "metadata": {},
   "outputs": [],
   "source": [
    "#sort into days\n",
    "stepDict = {}\n",
    "\n",
    "for e in stepAgg:\n",
    "    if e['date-la'] in stepDict:\n",
    "        stepDict[e['date-la']].append({'dt-la': e['dt-la'], 'value': e['value']})\n",
    "    else:\n",
    "        stepDict[e['date-la']] = [{'dt-la': e['dt-la'], 'value': e['value']}]\n",
    "\n",
    "#print(stepDict)\n",
    "\n",
    "for day in stepDict:\n",
    "    if day in data:\n",
    "        data[day]['steps'] = stepDict[day]\n",
    "    \n",
    "    \n",
    "    \n",
    "# for day in stepDict:\n",
    "#     if day in data:\n",
    "#         data[day]['steps'] = stepDict[day]\n",
    "#     else:\n",
    "#         data[day] = {'steps': stepDict[day]}"
   ]
  },
  {
   "cell_type": "code",
   "execution_count": 9,
   "metadata": {},
   "outputs": [],
   "source": [
    "#with open('/Users/jinlong/Documents/git/fitviz/data-processing/data.json', 'w') as f:\n",
    "    #json.dump(data, f, indent = 4)"
   ]
  },
  {
   "cell_type": "code",
   "execution_count": 14,
   "metadata": {},
   "outputs": [
    {
     "name": "stdout",
     "output_type": "stream",
     "text": [
      "850\n"
     ]
    }
   ],
   "source": [
    "#read in sleep data in\n",
    "allSleeps = dataLoader('sleep')\n",
    "\n",
    "print(len(allSleeps))\n",
    "#391"
   ]
  },
  {
   "cell_type": "code",
   "execution_count": 15,
   "metadata": {},
   "outputs": [
    {
     "name": "stdout",
     "output_type": "stream",
     "text": [
      "850\n"
     ]
    }
   ],
   "source": [
    "#parse sleep data\n",
    "sleepParsed = []\n",
    "##Need to de-duplicate sleep records by logID\n",
    "for e in allSleeps:\n",
    "    obj = {}\n",
    "    obj['dt-la-start'] = dtParser(e['startTime'], '%Y-%m-%dT%H:%M:%S.%f')\n",
    "    obj['dt-la-end'] = dtParser(e['endTime'], '%Y-%m-%dT%H:%M:%S.%f')\n",
    "    sleepParsed.append(obj)\n",
    "\n",
    "print(len(sleepParsed))"
   ]
  },
  {
   "cell_type": "code",
   "execution_count": 16,
   "metadata": {},
   "outputs": [],
   "source": [
    "#split cross-day sleeps\n",
    "#sort sleep data into days\n",
    "sleepDict = {}\n",
    "\n",
    "for e in sleepParsed:\n",
    "    if e['dt-la-start'][:10] != e['dt-la-end'][:10]:\n",
    "        split2 = {'dt-la-start': e['dt-la-end'][:10] + ' 00:00:00', 'dt-la-end': e['dt-la-end']}\n",
    "        split1 = {'dt-la-start': e['dt-la-start'], 'dt-la-end': e['dt-la-end'][:10] + ' 00:00:00'}\n",
    "        if split1['dt-la-start'][:10] in sleepDict:\n",
    "            sleepDict[split1['dt-la-start'][:10]].append(split1)\n",
    "        else:\n",
    "            sleepDict[split1['dt-la-start'][:10]] = [split1]\n",
    "        if split2['dt-la-start'][:10] in sleepDict:\n",
    "            sleepDict[split2['dt-la-start'][:10]].append(split2)\n",
    "        else:\n",
    "            sleepDict[split1['dt-la-start'][:10]] = [split1]\n",
    "#         print(e)\n",
    "#         print(split1)\n",
    "#         print(split2)\n",
    "#         print(' ')\n",
    "    else:\n",
    "        if e['dt-la-start'][:10] in sleepDict:\n",
    "            sleepDict[e['dt-la-start'][:10]].append(e)\n",
    "        else:\n",
    "            sleepDict[e['dt-la-start'][:10]] = [e]\n",
    "\n",
    "            "
   ]
  },
  {
   "cell_type": "code",
   "execution_count": 12,
   "metadata": {},
   "outputs": [],
   "source": [
    "#with open('/Users/jinlong/Documents/git/fitviz/data-processing/data-sleeps.json', 'w') as f:\n",
    "    #json.dump(sleepDict, f, indent = 4)"
   ]
  },
  {
   "cell_type": "code",
   "execution_count": 17,
   "metadata": {},
   "outputs": [],
   "source": [
    "#append sleep data into data\n",
    "for k in sleepDict:\n",
    "    if k in data:\n",
    "        data[k]['sleep'] = sleepDict[k]"
   ]
  },
  {
   "cell_type": "code",
   "execution_count": 14,
   "metadata": {},
   "outputs": [],
   "source": [
    "#with open('/Users/jinlong/Documents/git/fitviz/data-processing/data.json', 'w') as f:\n",
    "    #json.dump(data, f, indent = 4)"
   ]
  },
  {
   "cell_type": "code",
   "execution_count": 15,
   "metadata": {},
   "outputs": [],
   "source": [
    "# #add heart rate data\n",
    "# allHr = dataLoader('heart_rate')\n",
    "\n",
    "# #print(len(allHr))\n",
    "# #3385362\n",
    "\n",
    "# #print(allHr[-100])"
   ]
  },
  {
   "cell_type": "code",
   "execution_count": 16,
   "metadata": {},
   "outputs": [],
   "source": [
    "# #parse and sort HR into days\n",
    "# hrDict = {}\n",
    "\n",
    "# for e in allHr:\n",
    "#     e['dateTime'] = dtParser(e['dateTime'], '%m/%d/%y %H:%M:%S')\n",
    "#     thisDate = e['dateTime'][:10]\n",
    "#     if thisDate in hrDict:\n",
    "#         hrDict[thisDate].append({'dt': e['dateTime'], 'value': e['value']['bpm']})\n",
    "#     else:\n",
    "#         hrDict[thisDate] = [{'dt': e['dateTime'], 'value': e['value']['bpm']}]\n",
    "\n",
    "# print (hrDict['2019-01-13'][:10])"
   ]
  },
  {
   "cell_type": "code",
   "execution_count": 17,
   "metadata": {},
   "outputs": [],
   "source": [
    "# #append HR data into data\n",
    "# for k in hrDict:\n",
    "#     if k in data:\n",
    "#         data[k]['hr'] = hrDict[k]"
   ]
  },
  {
   "cell_type": "code",
   "execution_count": 18,
   "metadata": {},
   "outputs": [],
   "source": [
    "with open('/Users/jinlong/Documents/git/fitviz/data-processing/data.json', 'w') as f:\n",
    "    json.dump(data, f, indent = 4)"
   ]
  },
  {
   "cell_type": "code",
   "execution_count": null,
   "metadata": {},
   "outputs": [],
   "source": []
  },
  {
   "cell_type": "code",
   "execution_count": 20,
   "metadata": {},
   "outputs": [],
   "source": [
    "#timezone conversion: https://stackoverflow.com/a/13287083/1806825"
   ]
  },
  {
   "cell_type": "code",
   "execution_count": null,
   "metadata": {},
   "outputs": [],
   "source": []
  }
 ],
 "metadata": {
  "kernelspec": {
   "display_name": "Python 3",
   "language": "python",
   "name": "python3"
  },
  "language_info": {
   "codemirror_mode": {
    "name": "ipython",
    "version": 3
   },
   "file_extension": ".py",
   "mimetype": "text/x-python",
   "name": "python",
   "nbconvert_exporter": "python",
   "pygments_lexer": "ipython3",
   "version": "3.7.4"
  }
 },
 "nbformat": 4,
 "nbformat_minor": 2
}
